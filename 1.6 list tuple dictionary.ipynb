{
 "cells": [
  {
   "cell_type": "code",
   "execution_count": 1,
   "id": "53883333-e93e-47fe-b31b-d4a50e3ff20e",
   "metadata": {},
   "outputs": [
    {
     "name": "stdout",
     "output_type": "stream",
     "text": [
      "[2, 4, 6, 8]\n"
     ]
    }
   ],
   "source": [
    "lst1=[2,4,6,8]\n",
    "print(lst1)"
   ]
  },
  {
   "cell_type": "code",
   "execution_count": 7,
   "id": "2b27275b-4e10-436f-b992-855b08b45def",
   "metadata": {},
   "outputs": [
    {
     "name": "stdout",
     "output_type": "stream",
     "text": [
      "['Jimi', 5000, True, 3.8, 2019, 300]\n",
      "[90, 5000, True, 3.8, 2019, 300]\n",
      "True\n",
      "2019\n"
     ]
    }
   ],
   "source": [
    "lst1 = ['Jimi', 5000, True, 3.8, 2019, 300]\n",
    "print(lst1)\n",
    "lst1[0]=90\n",
    "print(lst1)\n",
    "print(lst1[2])\n",
    "print(lst1[-2])"
   ]
  },
  {
   "cell_type": "code",
   "execution_count": 24,
   "id": "54f6c966-e925-43f5-b13f-a7c284888522",
   "metadata": {},
   "outputs": [
    {
     "name": "stdout",
     "output_type": "stream",
     "text": [
      "Jimi\n",
      "300\n"
     ]
    }
   ],
   "source": [
    "lst1 = ['Jimi', 5000, True, 3.8, 2019, 300]\n",
    "print(lst1[0])\n",
    "print(lst1[-1])\n",
    "#print(lst1[7])#trying to access element that is notin range#index error"
   ]
  },
  {
   "cell_type": "code",
   "execution_count": 23,
   "id": "7eddeb08-fe5c-4eab-aad9-fb718d3bc819",
   "metadata": {},
   "outputs": [
    {
     "name": "stdout",
     "output_type": "stream",
     "text": [
      "[4, 3, 2]\n",
      "[0, 9, 8, 7, 6]\n",
      "[6, 5, 4, 3, 2, 1]\n",
      "[0, 9, 8, 7, 6, 5, 4, 3, 2, 1]\n",
      "[4, 3]\n"
     ]
    }
   ],
   "source": [
    "#slicing\n",
    "ls=[0,9,8,7,6,5,4,3,2,1]\n",
    "print(ls[6:9])\n",
    "print(ls[:5])\n",
    "print(ls[4:])\n",
    "print(ls[:])\n",
    "print(ls[-4:-2])#negative slicing"
   ]
  },
  {
   "cell_type": "code",
   "execution_count": 30,
   "id": "90d054b4-c0ce-4f9a-9bc8-9eeb5d243638",
   "metadata": {},
   "outputs": [
    {
     "name": "stdout",
     "output_type": "stream",
     "text": [
      "[2, 4, 6, 8, 10, 12, 14]\n",
      "[3, 6, 9, 12, 15]\n"
     ]
    }
   ],
   "source": [
    "#striding\n",
    "lst=[1,2,3,4,5,6,7,8,9,10,11,12,13,14,15]\n",
    "print(lst[1:14:2])\n",
    "print(lst[2:15:3])"
   ]
  },
  {
   "cell_type": "code",
   "execution_count": 38,
   "id": "4ae72728-8216-45b9-92a7-13dfa5da7446",
   "metadata": {},
   "outputs": [
    {
     "name": "stdout",
     "output_type": "stream",
     "text": [
      "['a', 'b', 'c', 'd', 'e', 'f', 'g', 'h', 'a', 'b', 'c', 'd', 'e', 'f', 'g', 'h', 'a', 'b']\n",
      "['a', 'b', 'c', 'd', 'e', 'f', 'g', 'h', 'a', 'b', 'c', 'd', 'e', 'f', 'g', 'h', 'a', 'b', 0, 1, 2, 3, 4, 5, 6, 7, 8, 9]\n",
      "['a', 'b', 'c', 'd', 'e', 'f', 'g', 'h', 'a', 'b', 'c', 'd', 'e', 'f', 'g', 'h', 'a', 'b', 0, 1, 2, 3, 4, 5, 6, 7, 8, 9, 'i', 'j', 'k', 'l']\n"
     ]
    }
   ],
   "source": [
    "list=['a','b','c','d','e','f','g','h']\n",
    "for i in range(10):\n",
    "    list.append(list[i])\n",
    "print(list)\n",
    "for i in range(10):\n",
    "    list.append(i)\n",
    "print(list)\n",
    "list.extend(['i','j','k','l'])\n",
    "print(list)"
   ]
  },
  {
   "cell_type": "code",
   "execution_count": 40,
   "id": "f039e34e-bde5-4339-b9ad-adafbf4aefb6",
   "metadata": {},
   "outputs": [
    {
     "name": "stdout",
     "output_type": "stream",
     "text": [
      "['hello', 'world', 'this', 'is']\n",
      "['this', 'is', 'hello', 'world', 'this', 'is']\n"
     ]
    }
   ],
   "source": [
    "la=['hello','world']\n",
    "lb=['this','is']\n",
    "la=la+lb\n",
    "print(la)\n",
    "lb +=la\n",
    "print(lb)"
   ]
  },
  {
   "cell_type": "code",
   "execution_count": 48,
   "id": "d371383e-5b54-47d8-9c48-e3617415cf9a",
   "metadata": {},
   "outputs": [
    {
     "name": "stdout",
     "output_type": "stream",
     "text": [
      "['a', 'b', 'c', 'd', 'e', 'f', 'g', 'h', 'i', 'j', 'k']\n",
      "['a', 'b', 'c', 'e', 'f', 'g', 'h', 'i', 'j', 'k']\n",
      "['a', 'b', 'c', 'e', 'f', 'h', 'i', 'j', 'k']\n",
      "['a', 'b', 'c', 'e', 'h', 'i', 'j', 'k']\n",
      "['c', 'e', 'h', 'i', 'j', 'k']\n"
     ]
    }
   ],
   "source": [
    "list=['a','b','c','d','e','f','g','h','i','j','k','l']\n",
    "list.pop()\n",
    "print(list)\n",
    "list.pop(3)\n",
    "print(list)\n",
    "list.pop(5)\n",
    "print(list)\n",
    "list.remove('f')\n",
    "print(list)\n",
    "del list[0:2]\n",
    "print(list)"
   ]
  },
  {
   "cell_type": "code",
   "execution_count": null,
   "id": "3f9461fe-b64f-4fad-8839-65a79f5b460d",
   "metadata": {},
   "outputs": [],
   "source": []
  }
 ],
 "metadata": {
  "kernelspec": {
   "display_name": "Python 3 (ipykernel)",
   "language": "python",
   "name": "python3"
  },
  "language_info": {
   "codemirror_mode": {
    "name": "ipython",
    "version": 3
   },
   "file_extension": ".py",
   "mimetype": "text/x-python",
   "name": "python",
   "nbconvert_exporter": "python",
   "pygments_lexer": "ipython3",
   "version": "3.13.3"
  }
 },
 "nbformat": 4,
 "nbformat_minor": 5
}
